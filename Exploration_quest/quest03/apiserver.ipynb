{
 "cells": [
  {
   "cell_type": "code",
   "execution_count": null,
   "metadata": {},
   "outputs": [],
   "source": []
  },
  {
   "cell_type": "code",
   "execution_count": 1,
   "metadata": {},
   "outputs": [
    {
     "name": "stdout",
     "output_type": "stream",
     "text": [
      " * Serving Flask app '__main__'\n",
      " * Debug mode: on\n"
     ]
    },
    {
     "name": "stderr",
     "output_type": "stream",
     "text": [
      "WARNING: This is a development server. Do not use it in a production deployment. Use a production WSGI server instead.\n",
      " * Running on http://127.0.0.1:5000\n",
      "Press CTRL+C to quit\n",
      " * Restarting with stat\n"
     ]
    },
    {
     "ename": "SystemExit",
     "evalue": "1",
     "output_type": "error",
     "traceback": [
      "An exception has occurred, use %tb to see the full traceback.\n",
      "\u001b[1;31mSystemExit\u001b[0m\u001b[1;31m:\u001b[0m 1\n"
     ]
    },
    {
     "name": "stderr",
     "output_type": "stream",
     "text": [
      "C:\\Users\\Administrator\\AppData\\Roaming\\Python\\Python312\\site-packages\\IPython\\core\\interactiveshell.py:3585: UserWarning: To exit: use 'exit', 'quit', or Ctrl-D.\n",
      "  warn(\"To exit: use 'exit', 'quit', or Ctrl-D.\", stacklevel=1)\n"
     ]
    }
   ],
   "source": [
    "from flask import Flask, request, send_file\n",
    "from PIL import Image\n",
    "import io\n",
    "from rembg import remove\n",
    "\n",
    "app = Flask(__name__)\n",
    "\n",
    "@app.route('/api/merge-images', methods=['POST'])\n",
    "def merge_images():\n",
    "\n",
    "    if 'foreground' not in request.files or 'background' not in request.files:\n",
    "        return {'error': 'Both foreground and background images are required'}, 400\n",
    "    \n",
    "\n",
    "    foreground_image_file = request.files['foreground']\n",
    "    background_image_file = request.files['background']\n",
    "\n",
    "\n",
    "    foreground_image = Image.open(foreground_image_file)\n",
    "    foreground_image_no_bg = remove(foreground_image)  # Remove background\n",
    "\n",
    "    background_image = Image.open(background_image_file)\n",
    "\n",
    "\n",
    "    background_image = background_image.resize(foreground_image_no_bg.size)\n",
    "\n",
    "\n",
    "    foreground_image_no_bg = foreground_image_no_bg.convert('RGBA')\n",
    "    background_image = background_image.convert('RGBA')\n",
    "\n",
    "\n",
    "    combined_image = Image.alpha_composite(background_image, foreground_image_no_bg)\n",
    "\n",
    "\n",
    "    output_image_io = io.BytesIO()\n",
    "    combined_image.save(output_image_io, format='PNG')\n",
    "    output_image_io.seek(0)\n",
    "\n",
    "\n",
    "    return send_file(output_image_io, mimetype='image/png', as_attachment=True, download_name='combined_image.png')\n",
    "\n",
    "if __name__ == '__main__':\n",
    "    app.run(debug=True)\n"
   ]
  },
  {
   "cell_type": "code",
   "execution_count": 2,
   "metadata": {},
   "outputs": [
    {
     "name": "stdout",
     "output_type": "stream",
     "text": [
      " * Serving Flask app '__main__'\n",
      " * Debug mode: on\n"
     ]
    },
    {
     "name": "stderr",
     "output_type": "stream",
     "text": [
      "WARNING: This is a development server. Do not use it in a production deployment. Use a production WSGI server instead.\n",
      " * Running on http://127.0.0.1:5000\n",
      "Press CTRL+C to quit\n",
      " * Restarting with stat\n"
     ]
    },
    {
     "ename": "SystemExit",
     "evalue": "1",
     "output_type": "error",
     "traceback": [
      "An exception has occurred, use %tb to see the full traceback.\n",
      "\u001b[1;31mSystemExit\u001b[0m\u001b[1;31m:\u001b[0m 1\n"
     ]
    },
    {
     "name": "stderr",
     "output_type": "stream",
     "text": [
      "C:\\Users\\Administrator\\AppData\\Roaming\\Python\\Python312\\site-packages\\IPython\\core\\interactiveshell.py:3585: UserWarning: To exit: use 'exit', 'quit', or Ctrl-D.\n",
      "  warn(\"To exit: use 'exit', 'quit', or Ctrl-D.\", stacklevel=1)\n"
     ]
    }
   ],
   "source": []
  }
 ],
 "metadata": {
  "kernelspec": {
   "display_name": "Python 3",
   "language": "python",
   "name": "python3"
  },
  "language_info": {
   "codemirror_mode": {
    "name": "ipython",
    "version": 3
   },
   "file_extension": ".py",
   "mimetype": "text/x-python",
   "name": "python",
   "nbconvert_exporter": "python",
   "pygments_lexer": "ipython3",
   "version": "3.12.3"
  }
 },
 "nbformat": 4,
 "nbformat_minor": 2
}
