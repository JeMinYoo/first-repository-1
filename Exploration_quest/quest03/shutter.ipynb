{
 "cells": [
  {
   "cell_type": "code",
   "execution_count": 2,
   "metadata": {},
   "outputs": [],
   "source": [
    "import ultralytics\n",
    "from ultralytics import YOLO\n",
    "from ultralytics import settings\n",
    "from ultralytics import SAM\n",
    "from ultralytics import RTDETR"
   ]
  },
  {
   "cell_type": "markdown",
   "metadata": {},
   "source": [
    "# Settings"
   ]
  },
  {
   "cell_type": "code",
   "execution_count": 6,
   "metadata": {},
   "outputs": [
    {
     "name": "stdout",
     "output_type": "stream",
     "text": [
      "{'settings_version': '0.0.4', 'datasets_dir': 'C:\\\\programming\\\\flutter\\\\shutter\\\\datasets', 'weights_dir': 'weights', 'runs_dir': 'runs', 'uuid': 'eb9d4c1f003408fbc2eaa7d28b75e67ce413eedd8afcdd494a1a204b30c64444', 'sync': True, 'api_key': '', 'openai_api_key': '', 'clearml': True, 'comet': True, 'dvc': True, 'hub': True, 'mlflow': True, 'neptune': True, 'raytune': True, 'tensorboard': True, 'wandb': True}\n"
     ]
    }
   ],
   "source": [
    "print(settings)"
   ]
  },
  {
   "cell_type": "markdown",
   "metadata": {},
   "source": [
    "---"
   ]
  },
  {
   "cell_type": "markdown",
   "metadata": {},
   "source": [
    "# Track"
   ]
  },
  {
   "cell_type": "code",
   "execution_count": null,
   "metadata": {},
   "outputs": [],
   "source": [
    "# Load an official or custom model\n",
    "model = YOLO(\"yolov8n.pt\")  # Load an official Detect model\n",
    "#model = YOLO(\"yolov8n-seg.pt\")  # Load an official Segment model\n",
    "#model = YOLO(\"yolov8n-pose.pt\")  # Load an official Pose model\n",
    "# model = YOLO(\"path/to/best.pt\")  # Load a custom trained model\n",
    "\n",
    "# Perform tracking with the model\n",
    "results = model.track(source=0, show=True, stream=False)  # Tracking with default tracker\n",
    "# results = model.track(\"https://youtu.be/sPMj2MEBlSs?si=eolZSM4RUlJsaLFM\", show=True)  # Tracking with default tracker\n",
    "#results = model.track(\"https://youtu.be/LNwODJXcvt4\", show=True, tracker=\"bytetrack.yaml\")  # with ByteTrack"
   ]
  },
  {
   "cell_type": "markdown",
   "metadata": {},
   "source": [
    "---"
   ]
  },
  {
   "cell_type": "markdown",
   "metadata": {},
   "source": [
    "# Pose"
   ]
  },
  {
   "cell_type": "code",
   "execution_count": 3,
   "metadata": {},
   "outputs": [
    {
     "name": "stdout",
     "output_type": "stream",
     "text": [
      "\n",
      "Found https://ultralytics.com/images/bus.jpg locally at bus.jpg\n",
      "image 1/1 c:\\programming\\flutter\\shutter\\bus.jpg: 640x480 5 persons, 44.9ms\n",
      "Speed: 3.0ms preprocess, 44.9ms inference, 2.0ms postprocess per image at shape (1, 3, 640, 480)\n",
      "Results saved to \u001b[1mruns\\pose\\predict4\u001b[0m\n"
     ]
    }
   ],
   "source": [
    "# Load a pretrained YOLO8n model\n",
    "model = YOLO(\"yolov8m-pose.pt\")\n",
    "\n",
    "# Run inference on the source\n",
    "results = model(source=\"https://ultralytics.com/images/bus.jpg\", show=True, conf=0.3, save=True)"
   ]
  },
  {
   "cell_type": "markdown",
   "metadata": {},
   "source": [
    "---"
   ]
  },
  {
   "cell_type": "markdown",
   "metadata": {},
   "source": [
    "# Segment"
   ]
  },
  {
   "cell_type": "code",
   "execution_count": null,
   "metadata": {},
   "outputs": [],
   "source": [
    "from ultralytics import YOLO\n",
    "\n",
    "# Load a model\n",
    "# model = YOLO(\"yolov8n-seg.yaml\")  # build a new model from YAML\n",
    "model = YOLO(\"yolov8n-seg.pt\")  # load a pretrained model (recommended for training)\n",
    "# model = YOLO(\"yolov8n-seg.yaml\").load(\"yolov8n.pt\")  # build from YAML and transfer weights\n",
    "# model = YOLO(\"yolov8x-seg.pt\")  # load a pretrained model (recommended for training)\n",
    "\n",
    "# Train the model\n",
    "results = model.track(source=0, show=True)"
   ]
  },
  {
   "cell_type": "markdown",
   "metadata": {},
   "source": [
    "---"
   ]
  },
  {
   "cell_type": "markdown",
   "metadata": {},
   "source": [
    "# Detect"
   ]
  },
  {
   "cell_type": "code",
   "execution_count": null,
   "metadata": {},
   "outputs": [],
   "source": [
    "from ultralytics import RTDETR\n",
    "\n",
    "# Load a COCO-pretrained RT-DETR-l model\n",
    "model = RTDETR(\"rtdetr-l.pt\")\n",
    "\n",
    "# Display model information (optional)\n",
    "model.info()\n",
    "\n",
    "# Run inference with the RT-DETR-l model on the 'bus.jpg' image\n",
    "results = model(source=\"https://www.youtube.com/watch?v=-mZqlHQEfWQ\", show=True, stream=False)"
   ]
  },
  {
   "cell_type": "markdown",
   "metadata": {},
   "source": [
    "---"
   ]
  },
  {
   "cell_type": "markdown",
   "metadata": {},
   "source": [
    "# OBB"
   ]
  },
  {
   "cell_type": "code",
   "execution_count": null,
   "metadata": {},
   "outputs": [],
   "source": [
    "# Load a model\n",
    "model = YOLO(\"yolov8n-obb.pt\")  # load an official model\n",
    "\n",
    "# Predict with the model\n",
    "results = model.track(\"https://www.youtube.com/watch?v=OBTgb_pJZ1M\", show=True)  # predict"
   ]
  },
  {
   "cell_type": "markdown",
   "metadata": {},
   "source": [
    "---"
   ]
  },
  {
   "cell_type": "markdown",
   "metadata": {},
   "source": [
    "# Working with Results\n",
    "\n",
    "All Ultralytics predict() calls will return a list of Results objects:"
   ]
  },
  {
   "cell_type": "code",
   "execution_count": 29,
   "metadata": {},
   "outputs": [
    {
     "name": "stdout",
     "output_type": "stream",
     "text": [
      "\n",
      "image 1/1 c:\\programming\\flutter\\shutter\\bus.jpg: 640x480 4 persons, 1 bus, 1 stop sign, 8.0ms\n",
      "Speed: 4.0ms preprocess, 8.0ms inference, 1.0ms postprocess per image at shape (1, 3, 640, 480)\n",
      "\n",
      "0: 640x640 4 persons, 1 bus, 8.0ms\n",
      "1: 640x640 2 persons, 1 tie, 8.0ms\n",
      "Speed: 3.0ms preprocess, 8.0ms inference, 1.5ms postprocess per image at shape (1, 3, 640, 640)\n"
     ]
    }
   ],
   "source": [
    "# Load a pretrained YOLOv8n model\n",
    "model = YOLO(\"yolov8n.pt\")\n",
    "\n",
    "# Run inference on an image\n",
    "result = model(\"bus.jpg\")  # list of 1 Results object\n",
    "results = model([\"bus.jpg\", \"zidane.jpg\"])  # list of 2 Results objects"
   ]
  },
  {
   "cell_type": "markdown",
   "metadata": {},
   "source": [
    "## Boxes"
   ]
  },
  {
   "cell_type": "code",
   "execution_count": 41,
   "metadata": {},
   "outputs": [
    {
     "name": "stdout",
     "output_type": "stream",
     "text": [
      "tensor([0., 0., 0., 5., 0.], device='cuda:0')\n",
      "tensor([ 0.,  0., 27.], device='cuda:0')\n"
     ]
    }
   ],
   "source": [
    "# View results\n",
    "for r in results:\n",
    "    print(r.boxes.cls)  # print the Boxes object containing the detection bounding boxes"
   ]
  },
  {
   "cell_type": "code",
   "execution_count": 35,
   "metadata": {},
   "outputs": [
    {
     "name": "stdout",
     "output_type": "stream",
     "text": [
      "tensor([[6.7045e+02, 3.8056e+02, 8.0992e+02, 8.7965e+02],\n",
      "        [2.2168e+02, 4.0742e+02, 3.4378e+02, 8.5619e+02],\n",
      "        [5.0681e+01, 3.9730e+02, 2.4440e+02, 9.0538e+02],\n",
      "        [3.1489e+01, 2.3074e+02, 8.0141e+02, 7.7578e+02],\n",
      "        [4.4961e-01, 5.4984e+02, 5.7770e+01, 8.6830e+02]], device='cuda:0')\n",
      "tensor([[ 31.6934,  46.7459, 157.4179, 166.0752],\n",
      "        [156.3796,   9.0637, 264.1510, 165.9951],\n",
      "        [101.9435, 101.8122, 118.0624, 167.0743]], device='cuda:0')\n"
     ]
    }
   ],
   "source": [
    "# View results\n",
    "for r in results:\n",
    "    print(r.boxes.xyxy)  # print the Boxes object containing the detection bounding boxes"
   ]
  },
  {
   "cell_type": "code",
   "execution_count": null,
   "metadata": {},
   "outputs": [],
   "source": [
    "# View results\n",
    "for r in results:\n",
    "    print(r.boxes.xyxy)  # print the Boxes object containing the detection bounding boxes"
   ]
  },
  {
   "cell_type": "markdown",
   "metadata": {},
   "source": [
    "---"
   ]
  },
  {
   "cell_type": "markdown",
   "metadata": {},
   "source": [
    "## Masks"
   ]
  },
  {
   "cell_type": "code",
   "execution_count": null,
   "metadata": {},
   "outputs": [],
   "source": [
    "# Load a pretrained YOLOv8n-seg Segment model\n",
    "model = YOLO(\"yolov8n-seg.pt\")\n",
    "\n",
    "# Run inference on an image\n",
    "results = model(\"bus.jpg\")  # results list\n",
    "\n",
    "# View results\n",
    "for r in results:\n",
    "    print(r.masks)  # print the Masks object containing the detected instance masks"
   ]
  },
  {
   "cell_type": "code",
   "execution_count": 51,
   "metadata": {},
   "outputs": [],
   "source": [
    "results[0].show()"
   ]
  },
  {
   "cell_type": "code",
   "execution_count": null,
   "metadata": {},
   "outputs": [],
   "source": []
  }
 ],
 "metadata": {
  "kernelspec": {
   "display_name": "Python 3",
   "language": "python",
   "name": "python3"
  },
  "language_info": {
   "codemirror_mode": {
    "name": "ipython",
    "version": 3
   },
   "file_extension": ".py",
   "mimetype": "text/x-python",
   "name": "python",
   "nbconvert_exporter": "python",
   "pygments_lexer": "ipython3",
   "version": "3.8.19"
  }
 },
 "nbformat": 4,
 "nbformat_minor": 2
}
